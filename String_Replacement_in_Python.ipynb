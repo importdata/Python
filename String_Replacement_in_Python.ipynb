{
  "nbformat": 4,
  "nbformat_minor": 0,
  "metadata": {
    "colab": {
      "name": "String Replacement in Python.ipynb",
      "provenance": [],
      "collapsed_sections": []
    },
    "kernelspec": {
      "name": "python3",
      "display_name": "Python 3"
    }
  },
  "cells": [
    {
      "cell_type": "markdown",
      "metadata": {
        "id": "ShdV1ovzmZz8",
        "colab_type": "text"
      },
      "source": [
        "\n",
        "# **Python String Replacement in Text Files & Data Frames**\n",
        "Author: Jaemin Lee (aka. Import Data)\n",
        "\n",
        "[Import Data YouTube Channel](https://www.youtube.com/channel/UCYDacpfRrCX6_8oDDlzTgFw)"
      ]
    },
    {
      "cell_type": "markdown",
      "metadata": {
        "id": "dNxwUIiyuo2o",
        "colab_type": "text"
      },
      "source": [
        "##Simple Text Examples"
      ]
    },
    {
      "cell_type": "code",
      "metadata": {
        "id": "tvXX7N-X4gHY",
        "colab_type": "code",
        "colab": {
          "base_uri": "https://localhost:8080/",
          "height": 35
        },
        "outputId": "1d03146a-55aa-484e-f207-42a72a03123c"
      },
      "source": [
        "'Welcome to import data YT channel'.replace('import data', 'Import Data')"
      ],
      "execution_count": 1,
      "outputs": [
        {
          "output_type": "execute_result",
          "data": {
            "application/vnd.google.colaboratory.intrinsic": {
              "type": "string"
            },
            "text/plain": [
              "'Welcome to Import Data YT channel'"
            ]
          },
          "metadata": {
            "tags": []
          },
          "execution_count": 1
        }
      ]
    },
    {
      "cell_type": "code",
      "metadata": {
        "id": "ZQ3yinktzGPe",
        "colab_type": "code",
        "cellView": "both",
        "colab": {
          "base_uri": "https://localhost:8080/",
          "height": 35
        },
        "outputId": "43e654a8-14cd-4b3a-942f-13f4fce636f9"
      },
      "source": [
        "# replacing multiple string values at once\n",
        "text = 'Welcome to import data YT channel. Please subscribe to this YT channel.'\n",
        "\n",
        "# initialize string values\n",
        "a = 'import data' \n",
        "b = 'Import Data'\n",
        "c = 'YT'\n",
        "d = 'YouTube'\n",
        "\n",
        "text.replace(a, b).replace(c, d, 1)"
      ],
      "execution_count": 3,
      "outputs": [
        {
          "output_type": "execute_result",
          "data": {
            "application/vnd.google.colaboratory.intrinsic": {
              "type": "string"
            },
            "text/plain": [
              "'Welcome to Import Data YouTube channel. Please subscribe to this YT channel.'"
            ]
          },
          "metadata": {
            "tags": []
          },
          "execution_count": 3
        }
      ]
    },
    {
      "cell_type": "markdown",
      "metadata": {
        "id": "1Cz8LRAfuwE-",
        "colab_type": "text"
      },
      "source": [
        "## Text File Example"
      ]
    },
    {
      "cell_type": "code",
      "metadata": {
        "id": "JBnNOC4o0CJQ",
        "colab_type": "code",
        "colab": {}
      },
      "source": [
        "# open the input file\n",
        "input = open(\"/content/example.txt\", \"rt\")\n",
        "\n",
        "# initialize the output file\n",
        "output = open(\"replaced_text.txt\", \"wt\")\n",
        "\n",
        "for line in input:\n",
        "  \n",
        "  # replace the strings and write to output file\n",
        "  output.write(line.replace(\"jaemin\", \"Jaemin\").replace(\"import data\", \"Import Data\").replace(\"youtub\", \"YouTube\"))\n",
        "\n",
        "# close input and output files\n",
        "input.close()\n",
        "output.close()"
      ],
      "execution_count": 4,
      "outputs": []
    },
    {
      "cell_type": "markdown",
      "metadata": {
        "id": "RFtimPEbVJ_A",
        "colab_type": "text"
      },
      "source": [
        "## Data Frame Example"
      ]
    },
    {
      "cell_type": "code",
      "metadata": {
        "id": "UyQl87PiIwrk",
        "colab_type": "code",
        "colab": {
          "base_uri": "https://localhost:8080/",
          "height": 233
        },
        "outputId": "89e3c7a8-1b62-47cc-b227-ca4b6127d358"
      },
      "source": [
        "import pandas as pd\n",
        "\n",
        "df = pd.DataFrame({'states': ['CA', 'NY', 'TX', 'WA', 'OK', 'HI'],\n",
        "                   'avg_temp': ['hot', 'hot', 'extremely hot', 'mild', 'extremely hot', 'mild']\n",
        "                  })\n",
        "df"
      ],
      "execution_count": 5,
      "outputs": [
        {
          "output_type": "execute_result",
          "data": {
            "text/html": [
              "<div>\n",
              "<style scoped>\n",
              "    .dataframe tbody tr th:only-of-type {\n",
              "        vertical-align: middle;\n",
              "    }\n",
              "\n",
              "    .dataframe tbody tr th {\n",
              "        vertical-align: top;\n",
              "    }\n",
              "\n",
              "    .dataframe thead th {\n",
              "        text-align: right;\n",
              "    }\n",
              "</style>\n",
              "<table border=\"1\" class=\"dataframe\">\n",
              "  <thead>\n",
              "    <tr style=\"text-align: right;\">\n",
              "      <th></th>\n",
              "      <th>states</th>\n",
              "      <th>avg_temp</th>\n",
              "    </tr>\n",
              "  </thead>\n",
              "  <tbody>\n",
              "    <tr>\n",
              "      <th>0</th>\n",
              "      <td>CA</td>\n",
              "      <td>hot</td>\n",
              "    </tr>\n",
              "    <tr>\n",
              "      <th>1</th>\n",
              "      <td>NY</td>\n",
              "      <td>hot</td>\n",
              "    </tr>\n",
              "    <tr>\n",
              "      <th>2</th>\n",
              "      <td>TX</td>\n",
              "      <td>extremely hot</td>\n",
              "    </tr>\n",
              "    <tr>\n",
              "      <th>3</th>\n",
              "      <td>WA</td>\n",
              "      <td>mild</td>\n",
              "    </tr>\n",
              "    <tr>\n",
              "      <th>4</th>\n",
              "      <td>OK</td>\n",
              "      <td>extremely hot</td>\n",
              "    </tr>\n",
              "    <tr>\n",
              "      <th>5</th>\n",
              "      <td>HI</td>\n",
              "      <td>mild</td>\n",
              "    </tr>\n",
              "  </tbody>\n",
              "</table>\n",
              "</div>"
            ],
            "text/plain": [
              "  states       avg_temp\n",
              "0     CA            hot\n",
              "1     NY            hot\n",
              "2     TX  extremely hot\n",
              "3     WA           mild\n",
              "4     OK  extremely hot\n",
              "5     HI           mild"
            ]
          },
          "metadata": {
            "tags": []
          },
          "execution_count": 5
        }
      ]
    },
    {
      "cell_type": "code",
      "metadata": {
        "id": "uaKPydWaZVln",
        "colab_type": "code",
        "colab": {
          "base_uri": "https://localhost:8080/",
          "height": 235
        },
        "outputId": "a1e9d103-bc95-4de5-ccf3-0f561ab26a9a"
      },
      "source": [
        "# convert words to numeric values\n",
        "new_df = df.replace(['mild', 'hot', 'extremely hot'], [75, 85, 90])\n",
        "new_df"
      ],
      "execution_count": 6,
      "outputs": [
        {
          "output_type": "execute_result",
          "data": {
            "text/html": [
              "<div>\n",
              "<style scoped>\n",
              "    .dataframe tbody tr th:only-of-type {\n",
              "        vertical-align: middle;\n",
              "    }\n",
              "\n",
              "    .dataframe tbody tr th {\n",
              "        vertical-align: top;\n",
              "    }\n",
              "\n",
              "    .dataframe thead th {\n",
              "        text-align: right;\n",
              "    }\n",
              "</style>\n",
              "<table border=\"1\" class=\"dataframe\">\n",
              "  <thead>\n",
              "    <tr style=\"text-align: right;\">\n",
              "      <th></th>\n",
              "      <th>states</th>\n",
              "      <th>avg_temp</th>\n",
              "    </tr>\n",
              "  </thead>\n",
              "  <tbody>\n",
              "    <tr>\n",
              "      <th>0</th>\n",
              "      <td>CA</td>\n",
              "      <td>85</td>\n",
              "    </tr>\n",
              "    <tr>\n",
              "      <th>1</th>\n",
              "      <td>NY</td>\n",
              "      <td>85</td>\n",
              "    </tr>\n",
              "    <tr>\n",
              "      <th>2</th>\n",
              "      <td>TX</td>\n",
              "      <td>90</td>\n",
              "    </tr>\n",
              "    <tr>\n",
              "      <th>3</th>\n",
              "      <td>WA</td>\n",
              "      <td>75</td>\n",
              "    </tr>\n",
              "    <tr>\n",
              "      <th>4</th>\n",
              "      <td>OK</td>\n",
              "      <td>90</td>\n",
              "    </tr>\n",
              "    <tr>\n",
              "      <th>5</th>\n",
              "      <td>HI</td>\n",
              "      <td>75</td>\n",
              "    </tr>\n",
              "  </tbody>\n",
              "</table>\n",
              "</div>"
            ],
            "text/plain": [
              "  states  avg_temp\n",
              "0     CA        85\n",
              "1     NY        85\n",
              "2     TX        90\n",
              "3     WA        75\n",
              "4     OK        90\n",
              "5     HI        75"
            ]
          },
          "metadata": {
            "tags": []
          },
          "execution_count": 6
        }
      ]
    },
    {
      "cell_type": "code",
      "metadata": {
        "id": "bPMEHzH7Z8aH",
        "colab_type": "code",
        "colab": {}
      },
      "source": [
        "# save the new dataframe to csv\n",
        "new_df.to_csv('avg temp by states.csv', index=False)"
      ],
      "execution_count": 7,
      "outputs": []
    },
    {
      "cell_type": "code",
      "metadata": {
        "id": "wCfuqstK42Vm",
        "colab_type": "code",
        "colab": {}
      },
      "source": [
        ""
      ],
      "execution_count": null,
      "outputs": []
    }
  ]
}